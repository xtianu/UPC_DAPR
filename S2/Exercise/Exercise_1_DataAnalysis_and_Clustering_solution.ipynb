{
  "nbformat": 4,
  "nbformat_minor": 0,
  "metadata": {
    "colab": {
      "provenance": [],
      "include_colab_link": true
    },
    "kernelspec": {
      "name": "python3",
      "display_name": "Python 3"
    },
    "language_info": {
      "name": "python"
    }
  },
  "cells": [
    {
      "cell_type": "markdown",
      "metadata": {
        "id": "view-in-github",
        "colab_type": "text"
      },
      "source": [
        "<a href=\"https://colab.research.google.com/github/xtianu/UPC_DAPR_2025/blob/main/S2/Exercise/Exercise_1_DataAnalysis_and_Clustering_solution.ipynb\" target=\"_parent\"><img src=\"https://colab.research.google.com/assets/colab-badge.svg\" alt=\"Open In Colab\"/></a>"
      ]
    },
    {
      "cell_type": "markdown",
      "source": [
        "# Description\n",
        "\n",
        "This week, both the theory and laboratory sessions are going to be virtual and asynchronous. It is not needed to do it at the class hours but I strongly recommend that you do so. All you should do is follow the instructions described in this Python Notebook and submit the resulting .ipynb file to the corresponding task in the ATENEA digital Campus https://atenea.upc.edu/ before next **Wednesday, September 26th at 15h**.\n",
        "\n",
        "Please keep in mind that the main aim of this session is for you to learn, so if you are stuck or have any questions please don't hesitate contacting me at raul.benitez@upc.edu"
      ],
      "metadata": {
        "id": "nwyOhRJNHDgl"
      }
    },
    {
      "cell_type": "markdown",
      "source": [
        "#Task 1: Graphical Representation of data\n",
        "\n",
        "a) Watch the following video decribing how to use Python and google colab:\n",
        "\n",
        "https://www.youtube.com/watch?v=inN8seMm7UI\n",
        "\n",
        "A Python notebook example using  in the video can be found in the GitHub repository of the course:\n",
        "\n",
        "https://github.com/xtianu/UPC_DAPR_2025/blob/main/S2/S2.1_Data_Visualization.ipynb\n",
        "\n",
        "b) Load one of the built-in databases from either seaborn or sklearn libraries (except iris, mpg or titanic). We recommend you to use some Kaggle datasets. You should use the following functions:\n",
        "\n",
        "https://seaborn.pydata.org/generated/seaborn.load_dataset.html\n",
        "https://scikit-learn.org/stable/datasets/toy_dataset.html\n",
        "\n",
        "c) Create 4 different plots using matplotlib and/or seaborn libraries. Add a text cell describing the relevant aspects of the data that can be observed in each graph.\n",
        "\n",
        "\n",
        "\n"
      ],
      "metadata": {
        "id": "a30-njVJHk6F"
      }
    },
    {
      "cell_type": "markdown",
      "source": [
        "# Task 2: Clustering analysis\n",
        "\n",
        "a) A Python notebook example using in the video can be found in the GitHub repository of the course:\n",
        "\n",
        "https://github.com/xtianu/UPC_DAPR_2025/blob/main/S2/S2.2_Clustering%20analysis_PRML.ipynb\n",
        "\n",
        "b) Load one of the built-in databases from either seaborn or sklearn libraries (except iris, mpg or titanic). Use Kaggle Artantica Penguin's dataset:\n",
        "\n",
        "https://www.kaggle.com/datasets/parulpandey/palmer-archipelago-antarctica-penguin-data\n",
        "\n",
        "\n",
        "c) Apply k-means, agglomerative and GMM clustering methods to the Artantica Penguin's database and compare the results\n",
        "\n",
        "1. Load dataset\n",
        "2. Remove non-numerical columns and NaNs\n",
        "3. Visualize numerical data\n",
        "4. Compare k-means, agglomerative and GMM using Adjusted Rand Index\n",
        "5. Conclusion"
      ],
      "metadata": {
        "id": "v0Gv1FAgJS7V"
      }
    },
    {
      "cell_type": "code",
      "source": [],
      "metadata": {
        "id": "lp9F4-faNrgL"
      },
      "execution_count": null,
      "outputs": []
    },
    {
      "cell_type": "markdown",
      "source": [
        "## Solution Task2"
      ],
      "metadata": {
        "id": "p2LQXvS4-ymv"
      }
    },
    {
      "cell_type": "markdown",
      "source": [
        "Load dataset"
      ],
      "metadata": {
        "id": "xqt0bSvyeqOv"
      }
    },
    {
      "cell_type": "code",
      "execution_count": null,
      "metadata": {
        "colab": {
          "base_uri": "https://localhost:8080/"
        },
        "id": "SAX2umhYePr6",
        "outputId": "3039a145-1423-435a-825c-30db05f4a927"
      },
      "outputs": [
        {
          "output_type": "execute_result",
          "data": {
            "text/plain": [
              "Index(['species', 'island', 'bill_length_mm', 'bill_depth_mm',\n",
              "       'flipper_length_mm', 'body_mass_g', 'sex'],\n",
              "      dtype='object')"
            ]
          },
          "metadata": {},
          "execution_count": 1
        }
      ],
      "source": [
        "import seaborn as sns\n",
        "df = sns.load_dataset('penguins') # load data\n",
        "df1 = df.dropna() # remove nans\n",
        "df1.columns"
      ]
    },
    {
      "cell_type": "markdown",
      "source": [
        "Remove non-numerical columns and NaNs"
      ],
      "metadata": {
        "id": "gGPpQiaxfYJZ"
      }
    },
    {
      "cell_type": "code",
      "source": [
        "df2 = df1.drop(columns=['species', 'island','sex']) # remove non-numerical variables\n",
        "df2.head()"
      ],
      "metadata": {
        "colab": {
          "base_uri": "https://localhost:8080/",
          "height": 206
        },
        "id": "4VOkUHCJebFQ",
        "outputId": "c5d5412e-09f3-4f89-98a7-8e8d191ce6b4"
      },
      "execution_count": null,
      "outputs": [
        {
          "output_type": "execute_result",
          "data": {
            "text/plain": [
              "   bill_length_mm  bill_depth_mm  flipper_length_mm  body_mass_g\n",
              "0            39.1           18.7              181.0       3750.0\n",
              "1            39.5           17.4              186.0       3800.0\n",
              "2            40.3           18.0              195.0       3250.0\n",
              "4            36.7           19.3              193.0       3450.0\n",
              "5            39.3           20.6              190.0       3650.0"
            ],
            "text/html": [
              "\n",
              "  <div id=\"df-679b2b61-f748-404e-a6a8-1b0138762291\">\n",
              "    <div class=\"colab-df-container\">\n",
              "      <div>\n",
              "<style scoped>\n",
              "    .dataframe tbody tr th:only-of-type {\n",
              "        vertical-align: middle;\n",
              "    }\n",
              "\n",
              "    .dataframe tbody tr th {\n",
              "        vertical-align: top;\n",
              "    }\n",
              "\n",
              "    .dataframe thead th {\n",
              "        text-align: right;\n",
              "    }\n",
              "</style>\n",
              "<table border=\"1\" class=\"dataframe\">\n",
              "  <thead>\n",
              "    <tr style=\"text-align: right;\">\n",
              "      <th></th>\n",
              "      <th>bill_length_mm</th>\n",
              "      <th>bill_depth_mm</th>\n",
              "      <th>flipper_length_mm</th>\n",
              "      <th>body_mass_g</th>\n",
              "    </tr>\n",
              "  </thead>\n",
              "  <tbody>\n",
              "    <tr>\n",
              "      <th>0</th>\n",
              "      <td>39.1</td>\n",
              "      <td>18.7</td>\n",
              "      <td>181.0</td>\n",
              "      <td>3750.0</td>\n",
              "    </tr>\n",
              "    <tr>\n",
              "      <th>1</th>\n",
              "      <td>39.5</td>\n",
              "      <td>17.4</td>\n",
              "      <td>186.0</td>\n",
              "      <td>3800.0</td>\n",
              "    </tr>\n",
              "    <tr>\n",
              "      <th>2</th>\n",
              "      <td>40.3</td>\n",
              "      <td>18.0</td>\n",
              "      <td>195.0</td>\n",
              "      <td>3250.0</td>\n",
              "    </tr>\n",
              "    <tr>\n",
              "      <th>4</th>\n",
              "      <td>36.7</td>\n",
              "      <td>19.3</td>\n",
              "      <td>193.0</td>\n",
              "      <td>3450.0</td>\n",
              "    </tr>\n",
              "    <tr>\n",
              "      <th>5</th>\n",
              "      <td>39.3</td>\n",
              "      <td>20.6</td>\n",
              "      <td>190.0</td>\n",
              "      <td>3650.0</td>\n",
              "    </tr>\n",
              "  </tbody>\n",
              "</table>\n",
              "</div>\n",
              "      <button class=\"colab-df-convert\" onclick=\"convertToInteractive('df-679b2b61-f748-404e-a6a8-1b0138762291')\"\n",
              "              title=\"Convert this dataframe to an interactive table.\"\n",
              "              style=\"display:none;\">\n",
              "        \n",
              "  <svg xmlns=\"http://www.w3.org/2000/svg\" height=\"24px\"viewBox=\"0 0 24 24\"\n",
              "       width=\"24px\">\n",
              "    <path d=\"M0 0h24v24H0V0z\" fill=\"none\"/>\n",
              "    <path d=\"M18.56 5.44l.94 2.06.94-2.06 2.06-.94-2.06-.94-.94-2.06-.94 2.06-2.06.94zm-11 1L8.5 8.5l.94-2.06 2.06-.94-2.06-.94L8.5 2.5l-.94 2.06-2.06.94zm10 10l.94 2.06.94-2.06 2.06-.94-2.06-.94-.94-2.06-.94 2.06-2.06.94z\"/><path d=\"M17.41 7.96l-1.37-1.37c-.4-.4-.92-.59-1.43-.59-.52 0-1.04.2-1.43.59L10.3 9.45l-7.72 7.72c-.78.78-.78 2.05 0 2.83L4 21.41c.39.39.9.59 1.41.59.51 0 1.02-.2 1.41-.59l7.78-7.78 2.81-2.81c.8-.78.8-2.07 0-2.86zM5.41 20L4 18.59l7.72-7.72 1.47 1.35L5.41 20z\"/>\n",
              "  </svg>\n",
              "      </button>\n",
              "      \n",
              "  <style>\n",
              "    .colab-df-container {\n",
              "      display:flex;\n",
              "      flex-wrap:wrap;\n",
              "      gap: 12px;\n",
              "    }\n",
              "\n",
              "    .colab-df-convert {\n",
              "      background-color: #E8F0FE;\n",
              "      border: none;\n",
              "      border-radius: 50%;\n",
              "      cursor: pointer;\n",
              "      display: none;\n",
              "      fill: #1967D2;\n",
              "      height: 32px;\n",
              "      padding: 0 0 0 0;\n",
              "      width: 32px;\n",
              "    }\n",
              "\n",
              "    .colab-df-convert:hover {\n",
              "      background-color: #E2EBFA;\n",
              "      box-shadow: 0px 1px 2px rgba(60, 64, 67, 0.3), 0px 1px 3px 1px rgba(60, 64, 67, 0.15);\n",
              "      fill: #174EA6;\n",
              "    }\n",
              "\n",
              "    [theme=dark] .colab-df-convert {\n",
              "      background-color: #3B4455;\n",
              "      fill: #D2E3FC;\n",
              "    }\n",
              "\n",
              "    [theme=dark] .colab-df-convert:hover {\n",
              "      background-color: #434B5C;\n",
              "      box-shadow: 0px 1px 3px 1px rgba(0, 0, 0, 0.15);\n",
              "      filter: drop-shadow(0px 1px 2px rgba(0, 0, 0, 0.3));\n",
              "      fill: #FFFFFF;\n",
              "    }\n",
              "  </style>\n",
              "\n",
              "      <script>\n",
              "        const buttonEl =\n",
              "          document.querySelector('#df-679b2b61-f748-404e-a6a8-1b0138762291 button.colab-df-convert');\n",
              "        buttonEl.style.display =\n",
              "          google.colab.kernel.accessAllowed ? 'block' : 'none';\n",
              "\n",
              "        async function convertToInteractive(key) {\n",
              "          const element = document.querySelector('#df-679b2b61-f748-404e-a6a8-1b0138762291');\n",
              "          const dataTable =\n",
              "            await google.colab.kernel.invokeFunction('convertToInteractive',\n",
              "                                                     [key], {});\n",
              "          if (!dataTable) return;\n",
              "\n",
              "          const docLinkHtml = 'Like what you see? Visit the ' +\n",
              "            '<a target=\"_blank\" href=https://colab.research.google.com/notebooks/data_table.ipynb>data table notebook</a>'\n",
              "            + ' to learn more about interactive tables.';\n",
              "          element.innerHTML = '';\n",
              "          dataTable['output_type'] = 'display_data';\n",
              "          await google.colab.output.renderOutput(dataTable, element);\n",
              "          const docLink = document.createElement('div');\n",
              "          docLink.innerHTML = docLinkHtml;\n",
              "          element.appendChild(docLink);\n",
              "        }\n",
              "      </script>\n",
              "    </div>\n",
              "  </div>\n",
              "  "
            ]
          },
          "metadata": {},
          "execution_count": 2
        }
      ]
    }
  ]
}