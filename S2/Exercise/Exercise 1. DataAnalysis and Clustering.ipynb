{
  "nbformat": 4,
  "nbformat_minor": 0,
  "metadata": {
    "colab": {
      "provenance": []
    },
    "kernelspec": {
      "name": "python3",
      "display_name": "Python 3"
    },
    "language_info": {
      "name": "python"
    }
  },
  "cells": [
    {
      "cell_type": "markdown",
      "metadata": {
        "id": "view-in-github"
      },
      "source": [
        "<a href=\"https://colab.research.google.com/github/xtianu/UPC_DAPR_2025/blob/main/S2/Exercise/Exercise_1_DataAnalysis_and_Clustering_solution.ipynb\" target=\"_parent\"><img src=\"https://colab.research.google.com/assets/colab-badge.svg\" alt=\"Open In Colab\"/></a>"
      ]
    },
    {
      "cell_type": "markdown",
      "source": [
        "# Description\n",
        "\n",
        "This week, both the theory and laboratory sessions are going to be virtual and asynchronous. It is not needed to do it at the class hours but I strongly recommend that you do so. All you should do is follow the instructions described in this Python Notebook and submit the resulting .ipynb file to the corresponding task in the ATENEA digital Campus https://atenea.upc.edu/ before next **Wednesday, Friday 26th at 15h**.\n",
        "\n",
        "Please keep in mind that the main aim of this session is for you to learn, so if you are stuck or have any questions please don't hesitate contacting me at christian.mata@upc.edu"
      ],
      "metadata": {
        "id": "nwyOhRJNHDgl"
      }
    },
    {
      "cell_type": "markdown",
      "source": [
        "#Task 1: Graphical Representation of data\n",
        "\n",
        "a) Watch the following video decribing how to use Python and google colab:\n",
        "\n",
        "https://www.youtube.com/watch?v=inN8seMm7UI\n",
        "\n",
        "A Python notebook example using  in the video can be found in the GitHub repository of the course:\n",
        "\n",
        "https://github.com/xtianu/UPC_DAPR_2025/blob/main/S2/S2.1_Data_Visualization.ipynb\n",
        "\n",
        "b) Load one of the built-in databases from either seaborn or sklearn libraries (except iris, mpg or titanic). We recommend you to use some Kaggle datasets. You should use the following functions:\n",
        "\n",
        "https://seaborn.pydata.org/generated/seaborn.load_dataset.html\n",
        "https://scikit-learn.org/stable/datasets/toy_dataset.html\n",
        "\n",
        "c) Create 4 different plots using matplotlib and/or seaborn libraries. Add a text cell describing the relevant aspects of the data that can be observed in each graph.\n",
        "\n",
        "\n",
        "\n"
      ],
      "metadata": {
        "id": "a30-njVJHk6F"
      }
    },
    {
      "cell_type": "markdown",
      "source": [
        "# Task 2: Clustering analysis\n",
        "\n",
        "a) A Python notebook example using in the video can be found in the GitHub repository of the course:\n",
        "\n",
        "https://github.com/xtianu/UPC_DAPR_2025/blob/main/S2/S2.2_Clustering%20analysis_PRML.ipynb\n",
        "\n",
        "b) Load one of the built-in databases from either seaborn or sklearn libraries (except iris, mpg or titanic). Use Kaggle Artantica Penguin's dataset:\n",
        "\n",
        "https://www.kaggle.com/datasets/parulpandey/palmer-archipelago-antarctica-penguin-data\n",
        "\n",
        "\n",
        "c) Apply k-means, agglomerative and GMM clustering methods to the Artantica Penguin's database and compare the results\n",
        "\n",
        "1. Load dataset\n",
        "2. Remove non-numerical columns and NaNs\n",
        "3. Visualize numerical data\n",
        "4. Compare k-means, agglomerative and GMM using Adjusted Rand Index\n",
        "5. Conclusion"
      ],
      "metadata": {
        "id": "v0Gv1FAgJS7V"
      }
    }
  ]
}